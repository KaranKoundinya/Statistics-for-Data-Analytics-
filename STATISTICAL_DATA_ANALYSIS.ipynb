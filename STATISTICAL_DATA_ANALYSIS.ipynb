{
  "nbformat": 4,
  "nbformat_minor": 0,
  "metadata": {
    "colab": {
      "provenance": []
    },
    "kernelspec": {
      "name": "python3",
      "display_name": "Python 3"
    },
    "language_info": {
      "name": "python"
    }
  },
  "cells": [
    {
      "cell_type": "markdown",
      "source": [
        "#**1. A Statistical Analysis of CO2 Emissions**"
      ],
      "metadata": {
        "id": "6fSYWK8C5g3_"
      }
    },
    {
      "cell_type": "markdown",
      "source": [
        "##**1.1 Installing Libraries**"
      ],
      "metadata": {
        "id": "_P-WEeyu528Y"
      }
    },
    {
      "cell_type": "code",
      "execution_count": null,
      "metadata": {
        "colab": {
          "base_uri": "https://localhost:8080/"
        },
        "id": "YVzDdSH7wBZo",
        "outputId": "3e96727e-f89f-447b-daf5-add52a8bc40b"
      },
      "outputs": [
        {
          "output_type": "stream",
          "name": "stdout",
          "text": [
            "Looking in indexes: https://pypi.org/simple, https://us-python.pkg.dev/colab-wheels/public/simple/\n",
            "Requirement already satisfied: rpy2==3.5.1 in /usr/local/lib/python3.7/dist-packages (3.5.1)\n",
            "Requirement already satisfied: cffi>=1.10.0 in /usr/local/lib/python3.7/dist-packages (from rpy2==3.5.1) (1.15.1)\n",
            "Requirement already satisfied: tzlocal in /usr/local/lib/python3.7/dist-packages (from rpy2==3.5.1) (1.5.1)\n",
            "Requirement already satisfied: typing-extensions in /usr/local/lib/python3.7/dist-packages (from rpy2==3.5.1) (4.1.1)\n",
            "Requirement already satisfied: pytz in /usr/local/lib/python3.7/dist-packages (from rpy2==3.5.1) (2022.6)\n",
            "Requirement already satisfied: jinja2 in /usr/local/lib/python3.7/dist-packages (from rpy2==3.5.1) (2.11.3)\n",
            "Requirement already satisfied: pycparser in /usr/local/lib/python3.7/dist-packages (from cffi>=1.10.0->rpy2==3.5.1) (2.21)\n",
            "Requirement already satisfied: MarkupSafe>=0.23 in /usr/local/lib/python3.7/dist-packages (from jinja2->rpy2==3.5.1) (2.0.1)\n"
          ]
        }
      ],
      "source": [
        "!pip install rpy2==3.5.1\n",
        "import pandas as pd\n",
        "import numpy as np\n",
        "%load_ext rpy2.ipython"
      ]
    },
    {
      "cell_type": "code",
      "source": [
        "%%R\n",
        "install.packages(\"ggplot2\")\n",
        "library(\"ggplot2\")\n",
        "install.packages(\"DescTools\")\n",
        "library(\"DescTools\")\n",
        "install.packages(\"magrittr\") # package installations are only needed the first time you use it\n",
        "install.packages(\"dplyr\")    # alternative installation of the %>%\n",
        "library(\"magrittr\") # needs to be run every time you start R and want to use %>%\n",
        "library(\"dplyr\")"
      ],
      "metadata": {
        "colab": {
          "base_uri": "https://localhost:8080/"
        },
        "id": "OYIMmxNash8B",
        "outputId": "52dc0e94-e7f7-473d-90a3-42e4a0314a5d"
      },
      "execution_count": null,
      "outputs": [
        {
          "output_type": "stream",
          "name": "stderr",
          "text": [
            "WARNING:rpy2.rinterface_lib.callbacks:R[write to console]: Installing package into ‘/usr/local/lib/R/site-library’\n",
            "(as ‘lib’ is unspecified)\n",
            "\n",
            "WARNING:rpy2.rinterface_lib.callbacks:R[write to console]: trying URL 'https://cran.rstudio.com/src/contrib/ggplot2_3.4.0.tar.gz'\n",
            "\n",
            "WARNING:rpy2.rinterface_lib.callbacks:R[write to console]: Content type 'application/x-gzip'\n",
            "WARNING:rpy2.rinterface_lib.callbacks:R[write to console]:  length 3148426 bytes (3.0 MB)\n",
            "\n",
            "WARNING:rpy2.rinterface_lib.callbacks:R[write to console]: =\n",
            "WARNING:rpy2.rinterface_lib.callbacks:R[write to console]: =\n",
            "WARNING:rpy2.rinterface_lib.callbacks:R[write to console]: =\n",
            "WARNING:rpy2.rinterface_lib.callbacks:R[write to console]: =\n",
            "WARNING:rpy2.rinterface_lib.callbacks:R[write to console]: =\n",
            "WARNING:rpy2.rinterface_lib.callbacks:R[write to console]: =\n",
            "WARNING:rpy2.rinterface_lib.callbacks:R[write to console]: =\n",
            "WARNING:rpy2.rinterface_lib.callbacks:R[write to console]: =\n",
            "WARNING:rpy2.rinterface_lib.callbacks:R[write to console]: =\n",
            "WARNING:rpy2.rinterface_lib.callbacks:R[write to console]: =\n",
            "WARNING:rpy2.rinterface_lib.callbacks:R[write to console]: =\n",
            "WARNING:rpy2.rinterface_lib.callbacks:R[write to console]: =\n",
            "WARNING:rpy2.rinterface_lib.callbacks:R[write to console]: =\n",
            "WARNING:rpy2.rinterface_lib.callbacks:R[write to console]: =\n",
            "WARNING:rpy2.rinterface_lib.callbacks:R[write to console]: =\n",
            "WARNING:rpy2.rinterface_lib.callbacks:R[write to console]: =\n",
            "WARNING:rpy2.rinterface_lib.callbacks:R[write to console]: =\n",
            "WARNING:rpy2.rinterface_lib.callbacks:R[write to console]: =\n",
            "WARNING:rpy2.rinterface_lib.callbacks:R[write to console]: =\n",
            "WARNING:rpy2.rinterface_lib.callbacks:R[write to console]: =\n",
            "WARNING:rpy2.rinterface_lib.callbacks:R[write to console]: =\n",
            "WARNING:rpy2.rinterface_lib.callbacks:R[write to console]: =\n",
            "WARNING:rpy2.rinterface_lib.callbacks:R[write to console]: =\n",
            "WARNING:rpy2.rinterface_lib.callbacks:R[write to console]: =\n",
            "WARNING:rpy2.rinterface_lib.callbacks:R[write to console]: =\n",
            "WARNING:rpy2.rinterface_lib.callbacks:R[write to console]: =\n",
            "WARNING:rpy2.rinterface_lib.callbacks:R[write to console]: =\n",
            "WARNING:rpy2.rinterface_lib.callbacks:R[write to console]: =\n",
            "WARNING:rpy2.rinterface_lib.callbacks:R[write to console]: =\n",
            "WARNING:rpy2.rinterface_lib.callbacks:R[write to console]: =\n",
            "WARNING:rpy2.rinterface_lib.callbacks:R[write to console]: =\n",
            "WARNING:rpy2.rinterface_lib.callbacks:R[write to console]: =\n",
            "WARNING:rpy2.rinterface_lib.callbacks:R[write to console]: =\n",
            "WARNING:rpy2.rinterface_lib.callbacks:R[write to console]: =\n",
            "WARNING:rpy2.rinterface_lib.callbacks:R[write to console]: =\n",
            "WARNING:rpy2.rinterface_lib.callbacks:R[write to console]: =\n",
            "WARNING:rpy2.rinterface_lib.callbacks:R[write to console]: =\n",
            "WARNING:rpy2.rinterface_lib.callbacks:R[write to console]: =\n",
            "WARNING:rpy2.rinterface_lib.callbacks:R[write to console]: =\n",
            "WARNING:rpy2.rinterface_lib.callbacks:R[write to console]: =\n",
            "WARNING:rpy2.rinterface_lib.callbacks:R[write to console]: =\n",
            "WARNING:rpy2.rinterface_lib.callbacks:R[write to console]: =\n",
            "WARNING:rpy2.rinterface_lib.callbacks:R[write to console]: =\n",
            "WARNING:rpy2.rinterface_lib.callbacks:R[write to console]: =\n",
            "WARNING:rpy2.rinterface_lib.callbacks:R[write to console]: =\n",
            "WARNING:rpy2.rinterface_lib.callbacks:R[write to console]: =\n",
            "WARNING:rpy2.rinterface_lib.callbacks:R[write to console]: =\n",
            "WARNING:rpy2.rinterface_lib.callbacks:R[write to console]: =\n",
            "WARNING:rpy2.rinterface_lib.callbacks:R[write to console]: =\n",
            "WARNING:rpy2.rinterface_lib.callbacks:R[write to console]: =\n",
            "WARNING:rpy2.rinterface_lib.callbacks:R[write to console]: \n",
            "\n",
            "WARNING:rpy2.rinterface_lib.callbacks:R[write to console]: downloaded 3.0 MB\n",
            "\n",
            "\n",
            "WARNING:rpy2.rinterface_lib.callbacks:R[write to console]: \n",
            "\n",
            "WARNING:rpy2.rinterface_lib.callbacks:R[write to console]: \n",
            "WARNING:rpy2.rinterface_lib.callbacks:R[write to console]: The downloaded source packages are in\n",
            "\t‘/tmp/RtmpQ12kmq/downloaded_packages’\n",
            "WARNING:rpy2.rinterface_lib.callbacks:R[write to console]: \n",
            "WARNING:rpy2.rinterface_lib.callbacks:R[write to console]: \n",
            "\n",
            "WARNING:rpy2.rinterface_lib.callbacks:R[write to console]: Learn more about the underlying theory at https://ggplot2-book.org/\n",
            "\n",
            "WARNING:rpy2.rinterface_lib.callbacks:R[write to console]: Installing package into ‘/usr/local/lib/R/site-library’\n",
            "(as ‘lib’ is unspecified)\n",
            "\n",
            "WARNING:rpy2.rinterface_lib.callbacks:R[write to console]: trying URL 'https://cran.rstudio.com/src/contrib/DescTools_0.99.47.tar.gz'\n",
            "\n",
            "WARNING:rpy2.rinterface_lib.callbacks:R[write to console]: Content type 'application/x-gzip'\n",
            "WARNING:rpy2.rinterface_lib.callbacks:R[write to console]:  length 2634629 bytes (2.5 MB)\n",
            "\n",
            "WARNING:rpy2.rinterface_lib.callbacks:R[write to console]: =\n",
            "WARNING:rpy2.rinterface_lib.callbacks:R[write to console]: =\n",
            "WARNING:rpy2.rinterface_lib.callbacks:R[write to console]: =\n",
            "WARNING:rpy2.rinterface_lib.callbacks:R[write to console]: =\n",
            "WARNING:rpy2.rinterface_lib.callbacks:R[write to console]: =\n",
            "WARNING:rpy2.rinterface_lib.callbacks:R[write to console]: =\n",
            "WARNING:rpy2.rinterface_lib.callbacks:R[write to console]: =\n",
            "WARNING:rpy2.rinterface_lib.callbacks:R[write to console]: =\n",
            "WARNING:rpy2.rinterface_lib.callbacks:R[write to console]: =\n",
            "WARNING:rpy2.rinterface_lib.callbacks:R[write to console]: =\n",
            "WARNING:rpy2.rinterface_lib.callbacks:R[write to console]: =\n",
            "WARNING:rpy2.rinterface_lib.callbacks:R[write to console]: =\n",
            "WARNING:rpy2.rinterface_lib.callbacks:R[write to console]: =\n",
            "WARNING:rpy2.rinterface_lib.callbacks:R[write to console]: =\n",
            "WARNING:rpy2.rinterface_lib.callbacks:R[write to console]: =\n",
            "WARNING:rpy2.rinterface_lib.callbacks:R[write to console]: =\n",
            "WARNING:rpy2.rinterface_lib.callbacks:R[write to console]: =\n",
            "WARNING:rpy2.rinterface_lib.callbacks:R[write to console]: =\n",
            "WARNING:rpy2.rinterface_lib.callbacks:R[write to console]: =\n",
            "WARNING:rpy2.rinterface_lib.callbacks:R[write to console]: =\n",
            "WARNING:rpy2.rinterface_lib.callbacks:R[write to console]: =\n",
            "WARNING:rpy2.rinterface_lib.callbacks:R[write to console]: =\n",
            "WARNING:rpy2.rinterface_lib.callbacks:R[write to console]: =\n",
            "WARNING:rpy2.rinterface_lib.callbacks:R[write to console]: =\n",
            "WARNING:rpy2.rinterface_lib.callbacks:R[write to console]: =\n",
            "WARNING:rpy2.rinterface_lib.callbacks:R[write to console]: =\n",
            "WARNING:rpy2.rinterface_lib.callbacks:R[write to console]: =\n",
            "WARNING:rpy2.rinterface_lib.callbacks:R[write to console]: =\n",
            "WARNING:rpy2.rinterface_lib.callbacks:R[write to console]: =\n",
            "WARNING:rpy2.rinterface_lib.callbacks:R[write to console]: =\n",
            "WARNING:rpy2.rinterface_lib.callbacks:R[write to console]: =\n",
            "WARNING:rpy2.rinterface_lib.callbacks:R[write to console]: =\n",
            "WARNING:rpy2.rinterface_lib.callbacks:R[write to console]: =\n",
            "WARNING:rpy2.rinterface_lib.callbacks:R[write to console]: =\n",
            "WARNING:rpy2.rinterface_lib.callbacks:R[write to console]: =\n",
            "WARNING:rpy2.rinterface_lib.callbacks:R[write to console]: =\n",
            "WARNING:rpy2.rinterface_lib.callbacks:R[write to console]: =\n",
            "WARNING:rpy2.rinterface_lib.callbacks:R[write to console]: =\n",
            "WARNING:rpy2.rinterface_lib.callbacks:R[write to console]: =\n",
            "WARNING:rpy2.rinterface_lib.callbacks:R[write to console]: =\n",
            "WARNING:rpy2.rinterface_lib.callbacks:R[write to console]: =\n",
            "WARNING:rpy2.rinterface_lib.callbacks:R[write to console]: =\n",
            "WARNING:rpy2.rinterface_lib.callbacks:R[write to console]: =\n",
            "WARNING:rpy2.rinterface_lib.callbacks:R[write to console]: =\n",
            "WARNING:rpy2.rinterface_lib.callbacks:R[write to console]: =\n",
            "WARNING:rpy2.rinterface_lib.callbacks:R[write to console]: =\n",
            "WARNING:rpy2.rinterface_lib.callbacks:R[write to console]: =\n",
            "WARNING:rpy2.rinterface_lib.callbacks:R[write to console]: =\n",
            "WARNING:rpy2.rinterface_lib.callbacks:R[write to console]: =\n",
            "WARNING:rpy2.rinterface_lib.callbacks:R[write to console]: =\n",
            "WARNING:rpy2.rinterface_lib.callbacks:R[write to console]: \n",
            "\n",
            "WARNING:rpy2.rinterface_lib.callbacks:R[write to console]: downloaded 2.5 MB\n",
            "\n",
            "\n",
            "WARNING:rpy2.rinterface_lib.callbacks:R[write to console]: \n",
            "\n",
            "WARNING:rpy2.rinterface_lib.callbacks:R[write to console]: \n",
            "WARNING:rpy2.rinterface_lib.callbacks:R[write to console]: The downloaded source packages are in\n",
            "\t‘/tmp/RtmpQ12kmq/downloaded_packages’\n",
            "WARNING:rpy2.rinterface_lib.callbacks:R[write to console]: \n",
            "WARNING:rpy2.rinterface_lib.callbacks:R[write to console]: \n",
            "\n",
            "WARNING:rpy2.rinterface_lib.callbacks:R[write to console]: Installing package into ‘/usr/local/lib/R/site-library’\n",
            "(as ‘lib’ is unspecified)\n",
            "\n",
            "WARNING:rpy2.rinterface_lib.callbacks:R[write to console]: trying URL 'https://cran.rstudio.com/src/contrib/magrittr_2.0.3.tar.gz'\n",
            "\n",
            "WARNING:rpy2.rinterface_lib.callbacks:R[write to console]: Content type 'application/x-gzip'\n",
            "WARNING:rpy2.rinterface_lib.callbacks:R[write to console]:  length 267074 bytes (260 KB)\n",
            "\n",
            "WARNING:rpy2.rinterface_lib.callbacks:R[write to console]: =\n",
            "WARNING:rpy2.rinterface_lib.callbacks:R[write to console]: =\n",
            "WARNING:rpy2.rinterface_lib.callbacks:R[write to console]: =\n",
            "WARNING:rpy2.rinterface_lib.callbacks:R[write to console]: =\n",
            "WARNING:rpy2.rinterface_lib.callbacks:R[write to console]: =\n",
            "WARNING:rpy2.rinterface_lib.callbacks:R[write to console]: =\n",
            "WARNING:rpy2.rinterface_lib.callbacks:R[write to console]: =\n",
            "WARNING:rpy2.rinterface_lib.callbacks:R[write to console]: =\n",
            "WARNING:rpy2.rinterface_lib.callbacks:R[write to console]: =\n",
            "WARNING:rpy2.rinterface_lib.callbacks:R[write to console]: =\n",
            "WARNING:rpy2.rinterface_lib.callbacks:R[write to console]: =\n",
            "WARNING:rpy2.rinterface_lib.callbacks:R[write to console]: =\n",
            "WARNING:rpy2.rinterface_lib.callbacks:R[write to console]: =\n",
            "WARNING:rpy2.rinterface_lib.callbacks:R[write to console]: =\n",
            "WARNING:rpy2.rinterface_lib.callbacks:R[write to console]: =\n",
            "WARNING:rpy2.rinterface_lib.callbacks:R[write to console]: =\n",
            "WARNING:rpy2.rinterface_lib.callbacks:R[write to console]: =\n",
            "WARNING:rpy2.rinterface_lib.callbacks:R[write to console]: =\n",
            "WARNING:rpy2.rinterface_lib.callbacks:R[write to console]: =\n",
            "WARNING:rpy2.rinterface_lib.callbacks:R[write to console]: =\n",
            "WARNING:rpy2.rinterface_lib.callbacks:R[write to console]: =\n",
            "WARNING:rpy2.rinterface_lib.callbacks:R[write to console]: =\n",
            "WARNING:rpy2.rinterface_lib.callbacks:R[write to console]: =\n",
            "WARNING:rpy2.rinterface_lib.callbacks:R[write to console]: =\n",
            "WARNING:rpy2.rinterface_lib.callbacks:R[write to console]: =\n",
            "WARNING:rpy2.rinterface_lib.callbacks:R[write to console]: =\n",
            "WARNING:rpy2.rinterface_lib.callbacks:R[write to console]: =\n",
            "WARNING:rpy2.rinterface_lib.callbacks:R[write to console]: =\n",
            "WARNING:rpy2.rinterface_lib.callbacks:R[write to console]: =\n",
            "WARNING:rpy2.rinterface_lib.callbacks:R[write to console]: =\n",
            "WARNING:rpy2.rinterface_lib.callbacks:R[write to console]: =\n",
            "WARNING:rpy2.rinterface_lib.callbacks:R[write to console]: =\n",
            "WARNING:rpy2.rinterface_lib.callbacks:R[write to console]: =\n",
            "WARNING:rpy2.rinterface_lib.callbacks:R[write to console]: =\n",
            "WARNING:rpy2.rinterface_lib.callbacks:R[write to console]: =\n",
            "WARNING:rpy2.rinterface_lib.callbacks:R[write to console]: =\n",
            "WARNING:rpy2.rinterface_lib.callbacks:R[write to console]: =\n",
            "WARNING:rpy2.rinterface_lib.callbacks:R[write to console]: =\n",
            "WARNING:rpy2.rinterface_lib.callbacks:R[write to console]: =\n",
            "WARNING:rpy2.rinterface_lib.callbacks:R[write to console]: =\n",
            "WARNING:rpy2.rinterface_lib.callbacks:R[write to console]: =\n",
            "WARNING:rpy2.rinterface_lib.callbacks:R[write to console]: =\n",
            "WARNING:rpy2.rinterface_lib.callbacks:R[write to console]: =\n",
            "WARNING:rpy2.rinterface_lib.callbacks:R[write to console]: =\n",
            "WARNING:rpy2.rinterface_lib.callbacks:R[write to console]: =\n",
            "WARNING:rpy2.rinterface_lib.callbacks:R[write to console]: =\n",
            "WARNING:rpy2.rinterface_lib.callbacks:R[write to console]: =\n",
            "WARNING:rpy2.rinterface_lib.callbacks:R[write to console]: =\n",
            "WARNING:rpy2.rinterface_lib.callbacks:R[write to console]: =\n",
            "WARNING:rpy2.rinterface_lib.callbacks:R[write to console]: =\n",
            "WARNING:rpy2.rinterface_lib.callbacks:R[write to console]: \n",
            "\n",
            "WARNING:rpy2.rinterface_lib.callbacks:R[write to console]: downloaded 260 KB\n",
            "\n",
            "\n",
            "WARNING:rpy2.rinterface_lib.callbacks:R[write to console]: \n",
            "\n",
            "WARNING:rpy2.rinterface_lib.callbacks:R[write to console]: \n",
            "WARNING:rpy2.rinterface_lib.callbacks:R[write to console]: The downloaded source packages are in\n",
            "\t‘/tmp/RtmpQ12kmq/downloaded_packages’\n",
            "WARNING:rpy2.rinterface_lib.callbacks:R[write to console]: \n",
            "WARNING:rpy2.rinterface_lib.callbacks:R[write to console]: \n",
            "\n",
            "WARNING:rpy2.rinterface_lib.callbacks:R[write to console]: Installing package into ‘/usr/local/lib/R/site-library’\n",
            "(as ‘lib’ is unspecified)\n",
            "\n",
            "WARNING:rpy2.rinterface_lib.callbacks:R[write to console]: trying URL 'https://cran.rstudio.com/src/contrib/dplyr_1.0.10.tar.gz'\n",
            "\n",
            "WARNING:rpy2.rinterface_lib.callbacks:R[write to console]: Content type 'application/x-gzip'\n",
            "WARNING:rpy2.rinterface_lib.callbacks:R[write to console]:  length 884984 bytes (864 KB)\n",
            "\n",
            "WARNING:rpy2.rinterface_lib.callbacks:R[write to console]: =\n",
            "WARNING:rpy2.rinterface_lib.callbacks:R[write to console]: =\n",
            "WARNING:rpy2.rinterface_lib.callbacks:R[write to console]: =\n",
            "WARNING:rpy2.rinterface_lib.callbacks:R[write to console]: =\n",
            "WARNING:rpy2.rinterface_lib.callbacks:R[write to console]: =\n",
            "WARNING:rpy2.rinterface_lib.callbacks:R[write to console]: =\n",
            "WARNING:rpy2.rinterface_lib.callbacks:R[write to console]: =\n",
            "WARNING:rpy2.rinterface_lib.callbacks:R[write to console]: =\n",
            "WARNING:rpy2.rinterface_lib.callbacks:R[write to console]: =\n",
            "WARNING:rpy2.rinterface_lib.callbacks:R[write to console]: =\n",
            "WARNING:rpy2.rinterface_lib.callbacks:R[write to console]: =\n",
            "WARNING:rpy2.rinterface_lib.callbacks:R[write to console]: =\n",
            "WARNING:rpy2.rinterface_lib.callbacks:R[write to console]: =\n",
            "WARNING:rpy2.rinterface_lib.callbacks:R[write to console]: =\n",
            "WARNING:rpy2.rinterface_lib.callbacks:R[write to console]: =\n",
            "WARNING:rpy2.rinterface_lib.callbacks:R[write to console]: =\n",
            "WARNING:rpy2.rinterface_lib.callbacks:R[write to console]: =\n",
            "WARNING:rpy2.rinterface_lib.callbacks:R[write to console]: =\n",
            "WARNING:rpy2.rinterface_lib.callbacks:R[write to console]: =\n",
            "WARNING:rpy2.rinterface_lib.callbacks:R[write to console]: =\n",
            "WARNING:rpy2.rinterface_lib.callbacks:R[write to console]: =\n",
            "WARNING:rpy2.rinterface_lib.callbacks:R[write to console]: =\n",
            "WARNING:rpy2.rinterface_lib.callbacks:R[write to console]: =\n",
            "WARNING:rpy2.rinterface_lib.callbacks:R[write to console]: =\n",
            "WARNING:rpy2.rinterface_lib.callbacks:R[write to console]: =\n",
            "WARNING:rpy2.rinterface_lib.callbacks:R[write to console]: =\n",
            "WARNING:rpy2.rinterface_lib.callbacks:R[write to console]: =\n",
            "WARNING:rpy2.rinterface_lib.callbacks:R[write to console]: =\n",
            "WARNING:rpy2.rinterface_lib.callbacks:R[write to console]: =\n",
            "WARNING:rpy2.rinterface_lib.callbacks:R[write to console]: =\n",
            "WARNING:rpy2.rinterface_lib.callbacks:R[write to console]: =\n",
            "WARNING:rpy2.rinterface_lib.callbacks:R[write to console]: =\n",
            "WARNING:rpy2.rinterface_lib.callbacks:R[write to console]: =\n",
            "WARNING:rpy2.rinterface_lib.callbacks:R[write to console]: =\n",
            "WARNING:rpy2.rinterface_lib.callbacks:R[write to console]: =\n",
            "WARNING:rpy2.rinterface_lib.callbacks:R[write to console]: =\n",
            "WARNING:rpy2.rinterface_lib.callbacks:R[write to console]: =\n",
            "WARNING:rpy2.rinterface_lib.callbacks:R[write to console]: =\n",
            "WARNING:rpy2.rinterface_lib.callbacks:R[write to console]: =\n",
            "WARNING:rpy2.rinterface_lib.callbacks:R[write to console]: =\n",
            "WARNING:rpy2.rinterface_lib.callbacks:R[write to console]: =\n",
            "WARNING:rpy2.rinterface_lib.callbacks:R[write to console]: =\n",
            "WARNING:rpy2.rinterface_lib.callbacks:R[write to console]: =\n",
            "WARNING:rpy2.rinterface_lib.callbacks:R[write to console]: =\n",
            "WARNING:rpy2.rinterface_lib.callbacks:R[write to console]: =\n",
            "WARNING:rpy2.rinterface_lib.callbacks:R[write to console]: =\n",
            "WARNING:rpy2.rinterface_lib.callbacks:R[write to console]: =\n",
            "WARNING:rpy2.rinterface_lib.callbacks:R[write to console]: =\n",
            "WARNING:rpy2.rinterface_lib.callbacks:R[write to console]: =\n",
            "WARNING:rpy2.rinterface_lib.callbacks:R[write to console]: =\n",
            "WARNING:rpy2.rinterface_lib.callbacks:R[write to console]: \n",
            "\n",
            "WARNING:rpy2.rinterface_lib.callbacks:R[write to console]: downloaded 864 KB\n",
            "\n",
            "\n",
            "WARNING:rpy2.rinterface_lib.callbacks:R[write to console]: \n",
            "\n",
            "WARNING:rpy2.rinterface_lib.callbacks:R[write to console]: \n",
            "WARNING:rpy2.rinterface_lib.callbacks:R[write to console]: The downloaded source packages are in\n",
            "\t‘/tmp/RtmpQ12kmq/downloaded_packages’\n",
            "WARNING:rpy2.rinterface_lib.callbacks:R[write to console]: \n",
            "WARNING:rpy2.rinterface_lib.callbacks:R[write to console]: \n",
            "\n",
            "WARNING:rpy2.rinterface_lib.callbacks:R[write to console]: \n",
            "Attaching package: ‘dplyr’\n",
            "\n",
            "\n",
            "WARNING:rpy2.rinterface_lib.callbacks:R[write to console]: The following objects are masked from ‘package:stats’:\n",
            "\n",
            "    filter, lag\n",
            "\n",
            "\n",
            "WARNING:rpy2.rinterface_lib.callbacks:R[write to console]: The following objects are masked from ‘package:base’:\n",
            "\n",
            "    intersect, setdiff, setequal, union\n",
            "\n",
            "\n"
          ]
        }
      ]
    },
    {
      "cell_type": "markdown",
      "source": [
        "##**1.3 Loading Data**"
      ],
      "metadata": {
        "id": "VSt9Rt1E6BVl"
      }
    },
    {
      "cell_type": "code",
      "source": [
        "%%R\n",
        "\n",
        "df = read.csv(\"/content/MY2022 Fuel Consumption Ratings.csv\")\n",
        "\n"
      ],
      "metadata": {
        "id": "InyqpKQfJTpn"
      },
      "execution_count": null,
      "outputs": []
    },
    {
      "cell_type": "code",
      "source": [
        "%%R\n",
        "summary(df)"
      ],
      "metadata": {
        "colab": {
          "base_uri": "https://localhost:8080/"
        },
        "id": "m-GFKFTMrlCf",
        "outputId": "2e03459b-aa90-403d-ef09-38d947fcfdba"
      },
      "execution_count": null,
      "outputs": [
        {
          "output_type": "stream",
          "name": "stdout",
          "text": [
            "   Model.Year       Make              Model           Vehicle.Class     \n",
            " Min.   :2022   Length:946         Length:946         Length:946        \n",
            " 1st Qu.:2022   Class :character   Class :character   Class :character  \n",
            " Median :2022   Mode  :character   Mode  :character   Mode  :character  \n",
            " Mean   :2022                                                           \n",
            " 3rd Qu.:2022                                                           \n",
            " Max.   :2022                                                           \n",
            " Engine.Size.L.    Cylinders      Transmission        Fuel.Type        \n",
            " Min.   :1.200   Min.   : 3.000   Length:946         Length:946        \n",
            " 1st Qu.:2.000   1st Qu.: 4.000   Class :character   Class :character  \n",
            " Median :3.000   Median : 6.000   Mode  :character   Mode  :character  \n",
            " Mean   :3.199   Mean   : 5.668                                        \n",
            " 3rd Qu.:3.800   3rd Qu.: 6.000                                        \n",
            " Max.   :8.000   Max.   :16.000                                        \n",
            " Fuel.Consumption..City..L.100.km. Fuel.Consumption.Hwy..L.100.km..\n",
            " Min.   : 4.00                     Min.   : 3.900                  \n",
            " 1st Qu.:10.20                     1st Qu.: 7.700                  \n",
            " Median :12.20                     Median : 9.200                  \n",
            " Mean   :12.51                     Mean   : 9.363                  \n",
            " 3rd Qu.:14.70                     3rd Qu.:10.700                  \n",
            " Max.   :30.30                     Max.   :20.900                  \n",
            " Fuel.Consumption.Comb..L.100.km.. Fuel.Consumption.Comb..mpg..\n",
            " Min.   : 4.00                     Min.   :11.00               \n",
            " 1st Qu.: 9.10                     1st Qu.:22.00               \n",
            " Median :10.80                     Median :26.00               \n",
            " Mean   :11.09                     Mean   :27.25               \n",
            " 3rd Qu.:12.90                     3rd Qu.:31.00               \n",
            " Max.   :26.10                     Max.   :71.00               \n",
            " CO2.Emissions.g.km.   CO2.Rating      Smog.Rating  \n",
            " Min.   : 94.0       Min.   : 1.000   Min.   :1.00  \n",
            " 1st Qu.:213.2       1st Qu.: 3.000   1st Qu.:3.00  \n",
            " Median :257.0       Median : 5.000   Median :5.00  \n",
            " Mean   :259.2       Mean   : 4.539   Mean   :4.95  \n",
            " 3rd Qu.:300.8       3rd Qu.: 5.000   3rd Qu.:6.00  \n",
            " Max.   :608.0       Max.   :10.000   Max.   :7.00  \n"
          ]
        }
      ]
    },
    {
      "cell_type": "markdown",
      "source": [
        "##**1.4 Descriptive Statistics**"
      ],
      "metadata": {
        "id": "mtABoOjS6e0u"
      }
    },
    {
      "cell_type": "markdown",
      "source": [
        ">>Measure of Frequency "
      ],
      "metadata": {
        "id": "d9lwT5BnPFCK"
      }
    },
    {
      "cell_type": "code",
      "source": [
        "%%R\n",
        "print(min(df$CO2.Emissions.g.km.))\n",
        "\n",
        "print(max(df$CO2.Emissions.g.km.))\n",
        "\n",
        "print(which.min(df$CO2.Emissions.g.km.))   #1\n",
        "\n",
        "print(which.max(df$CO2.Emissions.g.km.))   #2"
      ],
      "metadata": {
        "colab": {
          "base_uri": "https://localhost:8080/"
        },
        "id": "r4dnU2HbGE-i",
        "outputId": "d1a0b3ee-9b80-4a94-969b-684e8cdbc492"
      },
      "execution_count": null,
      "outputs": [
        {
          "output_type": "stream",
          "name": "stdout",
          "text": [
            "[1] 94\n",
            "[1] 608\n",
            "[1] 461\n",
            "[1] 134\n"
          ]
        }
      ]
    },
    {
      "cell_type": "markdown",
      "source": [
        "    #1 Index of the car with the minimum emisssion i.e Hyundai IONIQ\n",
        "    #2 Index of the car with maximum emission i.e Bugatti Chiron"
      ],
      "metadata": {
        "id": "VpnDHFyEI14j"
      }
    },
    {
      "cell_type": "markdown",
      "source": [
        ">>Measure of Central Tendency"
      ],
      "metadata": {
        "id": "nyoJ6eTeO8sw"
      }
    },
    {
      "cell_type": "code",
      "source": [
        "%%R\n",
        "print(mean(df$CO2.Emissions.g.km.))\n",
        "print(median(df$CO2.Emissions.g.km.))\n",
        "print(Mode(df$CO2.Emissions.g.km.))"
      ],
      "metadata": {
        "colab": {
          "base_uri": "https://localhost:8080/"
        },
        "id": "6uF7UT5iGGMz",
        "outputId": "254df96a-d54e-411c-9603-2ba59f569da6"
      },
      "execution_count": null,
      "outputs": [
        {
          "output_type": "stream",
          "name": "stdout",
          "text": [
            "[1] 259.1723\n",
            "[1] 257\n",
            "[1] 275\n",
            "attr(,\"freq\")\n",
            "[1] 15\n"
          ]
        }
      ]
    },
    {
      "cell_type": "markdown",
      "source": [
        ">>Measure of Dispersion "
      ],
      "metadata": {
        "id": "rWCh1nrrOzzP"
      }
    },
    {
      "cell_type": "code",
      "source": [
        "%%R\n",
        "print(sd(df$CO2.Emissions.g.km.))\n",
        "print(var(df$CO2.Emissions.g.km.))"
      ],
      "metadata": {
        "colab": {
          "base_uri": "https://localhost:8080/"
        },
        "id": "ic1Sq56OGGPr",
        "outputId": "0bf9878c-86ae-4d94-8c1b-5774b9787bd4"
      },
      "execution_count": null,
      "outputs": [
        {
          "output_type": "stream",
          "name": "stdout",
          "text": [
            "[1] 64.44315\n",
            "[1] 4152.919\n"
          ]
        }
      ]
    },
    {
      "cell_type": "markdown",
      "source": [
        ">>Measure of Position "
      ],
      "metadata": {
        "id": "uXbAhZG8PfSj"
      }
    },
    {
      "cell_type": "code",
      "source": [
        "%%R\n",
        "print(IQR(df$CO2.Emissions.g.km.))\n",
        "q1 <- quantile(df$CO2.Emissions.g.km., 0.25)\n",
        "print(q1)\n",
        "q3 <- quantile(df$CO2.Emissions.g.km., 0.75)\n",
        "print(q3)"
      ],
      "metadata": {
        "colab": {
          "base_uri": "https://localhost:8080/"
        },
        "id": "Ds3-u4hAGGSS",
        "outputId": "e59e3b2f-a45b-4875-e136-1e0b4e9caa5a"
      },
      "execution_count": null,
      "outputs": [
        {
          "output_type": "stream",
          "name": "stdout",
          "text": [
            "[1] 87.5\n",
            "   25% \n",
            "213.25 \n",
            "   75% \n",
            "300.75 \n"
          ]
        }
      ]
    },
    {
      "cell_type": "markdown",
      "source": [
        "    # IQR is the Inter Quartile Range (q3-q1)\n",
        "     > Any data points after the range of q3+1.5 is considered as an Outlier"
      ],
      "metadata": {
        "id": "o28kzRmkP5hp"
      }
    },
    {
      "cell_type": "markdown",
      "source": [
        ">>Scatter Plot \n",
        "\n",
        "It shows the correlation between Co2 Emissions and Fuel Consumption Comb(City+Hwy)"
      ],
      "metadata": {
        "id": "CktjV8vTQwMH"
      }
    },
    {
      "cell_type": "code",
      "source": [
        "%%R\n",
        "ggplot(df, aes(x = CO2.Emissions.g.km., y = Fuel.Consumption.Hwy..L.100.km..)) +\n",
        "  geom_point(aes(color = Make)) +\n",
        "  geom_point(alpha = 0.04)+\n",
        "  scale_color_viridis_d() +\n",
        "  theme_minimal()"
      ],
      "metadata": {
        "colab": {
          "base_uri": "https://localhost:8080/"
        },
        "id": "JW9crizlGGVL",
        "outputId": "235dc834-23c5-4dc2-b625-db783452ffee"
      },
      "execution_count": null,
      "outputs": [
        {
          "output_type": "display_data",
          "data": {
            "image/png": "[encoded data removed]"
          },
          "metadata": {}
        }
      ]
    },
    {
      "cell_type": "markdown",
      "source": [
        ">>Histogram of CO2 Emissions "
      ],
      "metadata": {
        "id": "oEpjolmVRG-m"
      }
    },
    {
      "cell_type": "code",
      "source": [
        "%%R\n",
        "mean(df$CO2.Emissions.g.km.)\n",
        "attach(df)\n",
        "hist(CO2.Emissions.g.km.)\n"
      ],
      "metadata": {
        "colab": {
          "base_uri": "https://localhost:8080/"
        },
        "id": "uJQNAhwgJTtI",
        "outputId": "2d6f14cb-ce99-4b22-c6ac-823e7aac8de6"
      },
      "execution_count": null,
      "outputs": [
        {
          "output_type": "display_data",
          "data": {
            "image/png": "[encoded data removed]"
          },
          "metadata": {}
        }
      ]
    },
    {
      "cell_type": "code",
      "source": [
        "%%R\n",
        "ggplot(data = df) + \n",
        "geom_histogram(mapping = aes(x=CO2.Emissions.g.km.))"
      ],
      "metadata": {
        "colab": {
          "base_uri": "https://localhost:8080/"
        },
        "id": "2hskJjCRpRUp",
        "outputId": "35895575-f764-4863-b577-cff0c3722ca6"
      },
      "execution_count": null,
      "outputs": [
        {
          "output_type": "stream",
          "name": "stdout",
          "text": [
            "`stat_bin()` using `bins = 30`. Pick better value with `binwidth`.\n"
          ]
        },
        {
          "output_type": "display_data",
          "data": {
            "image/png": "[encoded data removed]"
          },
          "metadata": {}
        }
      ]
    },
    {
      "cell_type": "markdown",
      "source": [
        ">>Boxplot of CO2 Emissions "
      ],
      "metadata": {
        "id": "AKvyrD_kRXyP"
      }
    },
    {
      "cell_type": "code",
      "source": [
        "%%R\n",
        "ggplot(data = df) + \n",
        "geom_boxplot(mapping = aes(y=CO2.Emissions.g.km.))"
      ],
      "metadata": {
        "colab": {
          "base_uri": "https://localhost:8080/"
        },
        "id": "5HYPVwj6b04l",
        "outputId": "0f641450-dc2f-4961-b770-d9e62649199b"
      },
      "execution_count": null,
      "outputs": [
        {
          "output_type": "display_data",
          "data": {
            "image/png": "[encoded data removed]"
          },
          "metadata": {}
        }
      ]
    },
    {
      "cell_type": "markdown",
      "source": [
        "    #Outliers can be seen in the boxplot "
      ],
      "metadata": {
        "id": "ELaLZyBvRehF"
      }
    },
    {
      "cell_type": "markdown",
      "source": [
        ">>When we consider the Vehicle Brands :\n",
        "\n",
        "    \n",
        "    Bugatti brand has the average highest number of CO2 Emissions\n",
        "    Buick brand has the average lowest number of CO2 Emissions"
      ],
      "metadata": {
        "id": "j8-FNrN-R8K0"
      }
    },
    {
      "cell_type": "code",
      "source": [
        "%%R\n",
        "df1 <- df %>%\n",
        " select(Make,CO2.Emissions.g.km.)%>%\n",
        " filter(Make == \"Buick\" | Make == \"Bugatti\")%>%\n",
        " group_by(Make)%>%\n",
        " summarise(Average_CO2.Emissions= mean(CO2.Emissions.g.km.),Standard_d = sd(CO2.Emissions.g.km.),Range = range(CO2.Emissions.g.km.))\n",
        " \n",
        "df1\n"
      ],
      "metadata": {
        "colab": {
          "base_uri": "https://localhost:8080/"
        },
        "id": "G5rTjsYSoXir",
        "outputId": "cef2c510-e401-4c4e-be7a-624074fe79ba"
      },
      "execution_count": null,
      "outputs": [
        {
          "output_type": "stream",
          "name": "stdout",
          "text": [
            "`summarise()` has grouped output by 'Make'. You can override using the\n",
            "`.groups` argument.\n",
            "# A tibble: 4 × 4\n",
            "# Groups:   Make [2]\n",
            "  Make    Average_CO2.Emissions Standard_d Range\n",
            "  <chr>                   <dbl>      <dbl> <int>\n",
            "1 Bugatti                  579.       49.7   522\n",
            "2 Bugatti                  579.       49.7   608\n",
            "3 Buick                    217.       32.4   184\n",
            "4 Buick                    217.       32.4   277\n"
          ]
        }
      ]
    },
    {
      "cell_type": "markdown",
      "source": [
        ">>Flows\n",
        "\n",
        "Flows of car brands with CO2 Emissions"
      ],
      "metadata": {
        "id": "RymI2Bu4S0df"
      }
    },
    {
      "cell_type": "code",
      "source": [
        "%%R\n",
        "df%>%\n",
        "ggplot(aes(x=CO2.Emissions.g.km., y=Make,col=Make,size=CO2.Emissions.g.km.)) + \n",
        "geom_point(alpha=0.5) "
      ],
      "metadata": {
        "colab": {
          "base_uri": "https://localhost:8080/"
        },
        "id": "vvbwDi6WoXxe",
        "outputId": "c5fbbef0-753d-440d-cafb-5ec863d3b280"
      },
      "execution_count": null,
      "outputs": [
        {
          "output_type": "display_data",
          "data": {
            "image/png": "[encoded data removed]"
          },
          "metadata": {}
        }
      ]
    },
    {
      "cell_type": "code",
      "source": [
        "%%R\n",
        "df%>%\n",
        "count(Fuel.Type)"
      ],
      "metadata": {
        "colab": {
          "base_uri": "https://localhost:8080/"
        },
        "id": "XxrAR_RDU5ef",
        "outputId": "5d80cee8-cf4f-432e-db12-9037b3fd8d1c"
      },
      "execution_count": null,
      "outputs": [
        {
          "output_type": "stream",
          "name": "stdout",
          "text": [
            "  Fuel.Type   n\n",
            "1         D  28\n",
            "2         E  14\n",
            "3         X 446\n",
            "4         Z 458\n"
          ]
        }
      ]
    },
    {
      "cell_type": "markdown",
      "source": [
        "##**1.5 Probability Distribution**"
      ],
      "metadata": {
        "id": "OXhhQ61t7Asm"
      }
    },
    {
      "cell_type": "markdown",
      "source": [
        ">**Normal Distribution**"
      ],
      "metadata": {
        "id": "bw1lCpze7TS_"
      }
    },
    {
      "cell_type": "code",
      "source": [
        "%%R\n",
        "normally_distributed <- rnorm(947,     \n",
        "                              mean = 0,    \n",
        "                              sd = 1) \n",
        "\n",
        "prob_under_minus1 <- pnorm(q=-1,        \n",
        "                     mean=0,\n",
        "                     sd=1)\n",
        "\n",
        "# Get prob of observing a value over 1\n",
        "prob_over_1 <-  1-pnorm(q=1,            \n",
        "                     mean=0,\n",
        "                     sd=1)\n",
        "\n",
        "# Prob between -1 and 1\n",
        "between_prob <- 1-(prob_under_minus1+prob_over_1)  \n",
        "\n",
        "\n",
        "print(prob_under_minus1)\n",
        "print(prob_over_1)\n",
        "print(between_prob)"
      ],
      "metadata": {
        "colab": {
          "base_uri": "https://localhost:8080/"
        },
        "id": "AQVFie00VTZ6",
        "outputId": "d0d43986-ec79-428d-cdbc-e85211b64524"
      },
      "execution_count": null,
      "outputs": [
        {
          "output_type": "stream",
          "name": "stdout",
          "text": [
            "[1] 0.1586553\n",
            "[1] 0.1586553\n",
            "[1] 0.6826895\n"
          ]
        }
      ]
    },
    {
      "cell_type": "markdown",
      "source": [
        "This means that there is 15.86% data before -1, 15.86% data after 1 and 68.26% data between (-1,1) "
      ],
      "metadata": {
        "id": "Xj6ff6dNu3Cv"
      }
    },
    {
      "cell_type": "code",
      "source": [
        "%%R\n",
        "norm_frame = with(density(normally_distributed),  # Create data frame density values\n",
        "                  data.frame(x,y))  \n",
        "\n",
        "\n",
        "myplot <- ggplot(data = norm_frame, aes(x = x, y = y)) +   # Create the plot\n",
        "       geom_line() +\n",
        "       geom_ribbon(data=subset(norm_frame,x < -1),\n",
        "                   aes(ymax=y, ymin=0),\n",
        "                   fill=\"red\", \n",
        "                   alpha=0.4) +\n",
        "       geom_ribbon(data=subset(norm_frame,x > 1),\n",
        "                   aes(ymax=y, ymin=0),\n",
        "                   fill=\"red\", \n",
        "                   alpha=0.4) +\n",
        "       geom_ribbon(data=subset(norm_frame,x > -1 & x < 1),\n",
        "                   aes(ymax=y, ymin=0),\n",
        "                   fill=\"skyblue\", \n",
        "                   alpha=0.4) +\n",
        "       xlim(-4,4)\n",
        "\n",
        "myplot"
      ],
      "metadata": {
        "colab": {
          "base_uri": "https://localhost:8080/"
        },
        "id": "XYs9BMcTX-e4",
        "outputId": "591e1e43-7bec-4974-d95d-5d632dab3c4f"
      },
      "execution_count": null,
      "outputs": [
        {
          "output_type": "display_data",
          "data": {
            "image/png": "[encoded data removed]"
          },
          "metadata": {}
        }
      ]
    },
    {
      "cell_type": "code",
      "source": [
        "%%R\n",
        "hist(normally_distributed)"
      ],
      "metadata": {
        "colab": {
          "base_uri": "https://localhost:8080/"
        },
        "id": "fVBylABKGa_8",
        "outputId": "286a586f-0872-4167-c843-dc3b2a6e6726"
      },
      "execution_count": null,
      "outputs": [
        {
          "output_type": "display_data",
          "data": {
            "image/png": "[encoded data removed]"
          },
          "metadata": {}
        }
      ]
    },
    {
      "cell_type": "markdown",
      "source": [
        ">Question: Assuming that the fuel consumption of a vehicle in a city fits a normal distribution. Furthermore, the mean consumption is 12.5 L/100Km, and the standard deviation is 3.452. What is the percentage of vehicles consuming 10 L/100Km of Fuel or more? Compare the same case with Fuel Consumption in Highway.\n",
        "\n",
        "(Mean and sd for highway is 9.63 L/100Km and 2.285)"
      ],
      "metadata": {
        "id": "HtuABiJjAvxG"
      }
    },
    {
      "cell_type": "code",
      "source": [
        "%%R\n",
        "X_City <- pnorm(10, mean=12.5, sd=3.452, lower.tail=FALSE) \n",
        "X_Hwy <-pnorm(10, mean=9.63, sd=2.285, lower.tail=FALSE)\n",
        "print(X_City)\n",
        "print(X_Hwy)"
      ],
      "metadata": {
        "colab": {
          "base_uri": "https://localhost:8080/"
        },
        "id": "OcT_ob3SAuks",
        "outputId": "1eae7369-dc57-4a34-c076-8b474cde6622"
      },
      "execution_count": null,
      "outputs": [
        {
          "output_type": "stream",
          "name": "stdout",
          "text": [
            "[1] 0.765534\n",
            "[1] 0.4356822\n"
          ]
        }
      ]
    },
    {
      "cell_type": "markdown",
      "source": [
        "We can conclude that Highway is more efficient. Since, only 43% of vehicles will consume 10L/Km of Fuel compared to that of City i.e 76%.\n",
        "\n",
        "This can be due to factors such as traffic, turns or parking time etc"
      ],
      "metadata": {
        "id": "iYFa6Nk0EJNw"
      }
    },
    {
      "cell_type": "markdown",
      "source": [
        ">**Poisson Distribution**"
      ],
      "metadata": {
        "id": "BUJ9PTCU_SlZ"
      }
    },
    {
      "cell_type": "markdown",
      "source": [
        ">Question: If the **CO2 Emissions** per vehicle is 277.24 g/km, find the probability of having 350 g/km emissions for a particular vehicle?"
      ],
      "metadata": {
        "id": "jqeVGmQ1-u_P"
      }
    },
    {
      "cell_type": "code",
      "source": [
        "%%R\n",
        "set.seed(12)\n",
        "C02_EMISSION_Rate <- rpois(n = 350,\n",
        "                        lambda = 277.24)        \n",
        "\n",
        "print(table(C02_EMISSION_Rate))\n",
        "\n",
        "hist(C02_EMISSION_Rate,\n",
        "     breaks=seq(-0.5,max(C02_EMISSION_Rate)+0.5,1))\n",
        "\n",
        "print(ppois(q=250,           \n",
        "      lambda=277.24))     \n",
        "print(dpois(x=350,           \n",
        "      lambda=277.24))"
      ],
      "metadata": {
        "colab": {
          "base_uri": "https://localhost:8080/"
        },
        "id": "u3qbR90z9tqI",
        "outputId": "eb38c60b-a381-412c-c63b-5d6cdd8118d1"
      },
      "execution_count": null,
      "outputs": [
        {
          "output_type": "stream",
          "name": "stdout",
          "text": [
            "C02_EMISSION_Rate\n",
            "232 235 237 241 243 244 246 249 250 251 252 253 254 255 256 257 258 259 260 261 \n",
            "  1   1   1   2   2   1   1   6   1   1   6   2   5   4  10   3   5   3   8   8 \n",
            "262 263 264 265 266 267 268 269 270 271 272 273 274 275 276 277 278 279 280 281 \n",
            "  5   6   6   6   9   6   7   2   5   7   8  10  11   9   9  11   6  10   9   6 \n",
            "282 283 284 285 286 287 288 289 290 291 292 293 294 295 296 297 298 299 301 302 \n",
            "  6  11   5   6  10   7   7   7   5   8   7   3   5   3   5   3   4   6   3   2 \n",
            "303 304 305 306 307 308 310 311 312 314 315 316 \n",
            "  3   4   2   1   1   1   1   1   1   1   1   1 \n",
            "[1] 0.05232837\n",
            "[1] 3.18996e-06\n"
          ]
        },
        {
          "output_type": "display_data",
          "data": {
            "image/png": "[encoded data removed]"
          },
          "metadata": {}
        }
      ]
    },
    {
      "cell_type": "markdown",
      "source": [
        ">>**Multinomial** "
      ],
      "metadata": {
        "id": "sXUL11HR7Yrm"
      }
    },
    {
      "cell_type": "markdown",
      "source": [
        "    We can find the frequency distribution of Fuel.Type with the table function."
      ],
      "metadata": {
        "id": "xtQ1Er64o5yd"
      }
    },
    {
      "cell_type": "code",
      "source": [
        "%%R\n",
        "table(df$Fuel.Type)"
      ],
      "metadata": {
        "colab": {
          "base_uri": "https://localhost:8080/"
        },
        "id": "kdwgPhBp8gDM",
        "outputId": "523cc73e-4025-417e-b87b-fa6fe7103fe9"
      },
      "execution_count": null,
      "outputs": [
        {
          "output_type": "stream",
          "name": "stdout",
          "text": [
            "\n",
            "  D   E   X   Z \n",
            " 28  14 446 458 \n"
          ]
        }
      ]
    },
    {
      "cell_type": "markdown",
      "source": [
        "    The computation of probability mass function (pmf) using Multinomial model"
      ],
      "metadata": {
        "id": "k5gjQQJF9pKx"
      }
    },
    {
      "cell_type": "code",
      "source": [
        "%%R\n",
        "pd<-28/946       #probability of D fuel type\n",
        "pe<-14/946       #probability of E fuel type\n",
        "px<-446/946      #probability of X fuel type\n",
        "pz<-458/946      #probability of Z fuel type\n",
        "library(nnet)\n",
        "p  <- c(pd,pe,px,pz)\n",
        "norm <- dmultinom(x= c(28,14,446,458), size = 946, p)\n",
        "norm\n"
      ],
      "metadata": {
        "colab": {
          "base_uri": "https://localhost:8080/"
        },
        "id": "Rxq5VVAyGbGO",
        "outputId": "9e926257-2093-482b-e99a-889ba43c4227"
      },
      "execution_count": null,
      "outputs": [
        {
          "output_type": "stream",
          "name": "stdout",
          "text": [
            "[1] 0.0002162387\n"
          ]
        }
      ]
    },
    {
      "cell_type": "markdown",
      "source": [
        "###**ChiSquare Test**"
      ],
      "metadata": {
        "id": "f9QoDPNO7Vdh"
      }
    },
    {
      "cell_type": "code",
      "source": [
        "%%R\n",
        "summary(df$CO2.Emissions.g.km.)\n",
        "chisq.test(df$CO2.Emissions.g.km.,df$Fuel.Consumption.Hwy..L.100.km..)"
      ],
      "metadata": {
        "colab": {
          "base_uri": "https://localhost:8080/"
        },
        "id": "vUvNPAcY2eiS",
        "outputId": "a4c4e77e-a8a4-4baa-c7cd-5d93bf405675"
      },
      "execution_count": null,
      "outputs": [
        {
          "output_type": "stream",
          "name": "stdout",
          "text": [
            "\n",
            "\tPearson's Chi-squared test\n",
            "\n",
            "data:  df$CO2.Emissions.g.km. and df$Fuel.Consumption.Hwy..L.100.km..\n",
            "X-squared = 46980, df = 25546, p-value < 2.2e-16\n",
            "\n"
          ]
        }
      ]
    },
    {
      "cell_type": "markdown",
      "source": [
        "     We reject our null hypothesis in this situation as the p < 0.05. We compare difference with respect to some variable in two groups, then it \n",
        "     means both groups have significance differences in the mean values of that variable.Which also indicates that Co2 Emissions and \n",
        "     Fuel Consumption.Hwy are dependent on each other. \n",
        "     \n",
        "     To cross verify, we will answer a series of questions."
      ],
      "metadata": {
        "id": "4yJqa7O_9Uw2"
      }
    },
    {
      "cell_type": "markdown",
      "source": [
        "**Questions**\n",
        "1. Boxplot of Co2 Emissions?"
      ],
      "metadata": {
        "id": "WeXjRnRt9esx"
      }
    },
    {
      "cell_type": "code",
      "source": [
        "%%R\n",
        "boxplot(df$CO2.Emissions.g.km.,col=\"orange\",\n",
        "        main=\"Descreptive Analysis of CO2.Emissions.g.km.\",horizontal=TRUE,xlab=\"CO2.Emissions.g.km.\")"
      ],
      "metadata": {
        "colab": {
          "base_uri": "https://localhost:8080/"
        },
        "id": "cWD7Nq0e2em9",
        "outputId": "65b7a684-9b70-479c-e16d-871b1df8b268"
      },
      "execution_count": null,
      "outputs": [
        {
          "output_type": "display_data",
          "data": {
            "image/png": "[encoded data removed]"
          },
          "metadata": {}
        }
      ]
    },
    {
      "cell_type": "markdown",
      "source": [
        "2. Distribution of Co2 Emissions?"
      ],
      "metadata": {
        "id": "4pS69K-59sT5"
      }
    },
    {
      "cell_type": "code",
      "source": [
        "%%R\n",
        "hist(df$CO2.Emissions.g.km.,col=\"pink\",\n",
        "     xlab=\"CO2.Emissions.g.km.\",\n",
        "     ylab=\"Frequency\",\n",
        "     main=\"Histogram for CO2.Emissions.g.km.\",\n",
        "     labels=TRUE)"
      ],
      "metadata": {
        "colab": {
          "base_uri": "https://localhost:8080/"
        },
        "id": "Mkz8edV92epK",
        "outputId": "fd65d70a-6e2d-4f69-ce95-93d396b5693e"
      },
      "execution_count": null,
      "outputs": [
        {
          "output_type": "display_data",
          "data": {
            "image/png": "[encoded data removed]"
          },
          "metadata": {}
        }
      ]
    },
    {
      "cell_type": "markdown",
      "source": [
        "3. Relationship between Co2 Emissions and Fuel Consumption Hwy ?\n",
        ">As seen and said above, both variables are dependent on each other "
      ],
      "metadata": {
        "id": "BwDuMZgE91hL"
      }
    },
    {
      "cell_type": "code",
      "source": [
        "%%R\n",
        "plot(df$CO2.Emissions.g.km.,df$Fuel.Consumption.Hwy..L.100.km..,\n",
        "    col=\"blue\",\n",
        "    main=\"Scatter Plot Between CO2.Emissions.g.km. and Fuel.Consumption.Hwy..L.100.km.. \",\n",
        "    xlab=\"CO2.Emissions.g.km.\",\n",
        "    ylab=\"Fuel.Consumption.Hwy..L.100.km..\")\n",
        "cor(df$CO2.Emissions.g.km.,df$Fuel.Consumption.Hwy..L.100.km..)"
      ],
      "metadata": {
        "colab": {
          "base_uri": "https://localhost:8080/"
        },
        "id": "r2QvbheN2esu",
        "outputId": "a2c2f592-c397-4630-9a5c-cffebed9e156"
      },
      "execution_count": null,
      "outputs": [
        {
          "output_type": "stream",
          "name": "stdout",
          "text": [
            "[1] 0.9339908\n"
          ]
        },
        {
          "output_type": "display_data",
          "data": {
            "image/png": "[encoded data removed]"
          },
          "metadata": {}
        }
      ]
    },
    {
      "cell_type": "markdown",
      "source": [
        "##**1.6 Hypothesis Testing**"
      ],
      "metadata": {
        "id": "PtIeK-6qQiR9"
      }
    },
    {
      "cell_type": "markdown",
      "source": [
        "For sample mean **(Xbar)** we take a random sample data called **\"CO2 Emissions Canada\"** from kaggle and get the mean of Co2 Emissions.\n"
      ],
      "metadata": {
        "id": "pMedOU__sF8O"
      }
    },
    {
      "cell_type": "code",
      "source": [
        "%%R\n",
        "df_sample = read.csv(\"/content/CO2 Emissions_Canada.csv\")\n",
        "summary(df_sample)"
      ],
      "metadata": {
        "colab": {
          "base_uri": "https://localhost:8080/"
        },
        "id": "257Me_VGshGp",
        "outputId": "30f6c435-78c5-472d-be1c-bb31d1c1c223"
      },
      "execution_count": null,
      "outputs": [
        {
          "output_type": "stream",
          "name": "stdout",
          "text": [
            "     Make              Model           Vehicle.Class      Engine.Size.L.\n",
            " Length:7385        Length:7385        Length:7385        Min.   :0.90  \n",
            " Class :character   Class :character   Class :character   1st Qu.:2.00  \n",
            " Mode  :character   Mode  :character   Mode  :character   Median :3.00  \n",
            "                                                          Mean   :3.16  \n",
            "                                                          3rd Qu.:3.70  \n",
            "                                                          Max.   :8.40  \n",
            "   Cylinders      Transmission        Fuel.Type        \n",
            " Min.   : 3.000   Length:7385        Length:7385       \n",
            " 1st Qu.: 4.000   Class :character   Class :character  \n",
            " Median : 6.000   Mode  :character   Mode  :character  \n",
            " Mean   : 5.615                                        \n",
            " 3rd Qu.: 6.000                                        \n",
            " Max.   :16.000                                        \n",
            " Fuel.Consumption.City..L.100.km. Fuel.Consumption.Hwy..L.100.km.\n",
            " Min.   : 4.20                    Min.   : 4.000                 \n",
            " 1st Qu.:10.10                    1st Qu.: 7.500                 \n",
            " Median :12.10                    Median : 8.700                 \n",
            " Mean   :12.56                    Mean   : 9.042                 \n",
            " 3rd Qu.:14.60                    3rd Qu.:10.200                 \n",
            " Max.   :30.60                    Max.   :20.600                 \n",
            " Fuel.Consumption.Comb..L.100.km. Fuel.Consumption.Comb..mpg.\n",
            " Min.   : 4.10                    Min.   :11.00              \n",
            " 1st Qu.: 8.90                    1st Qu.:22.00              \n",
            " Median :10.60                    Median :27.00              \n",
            " Mean   :10.98                    Mean   :27.48              \n",
            " 3rd Qu.:12.60                    3rd Qu.:32.00              \n",
            " Max.   :26.10                    Max.   :69.00              \n",
            " CO2.Emissions.g.km.\n",
            " Min.   : 96.0      \n",
            " 1st Qu.:208.0      \n",
            " Median :246.0      \n",
            " Mean   :250.6      \n",
            " 3rd Qu.:288.0      \n",
            " Max.   :522.0      \n"
          ]
        }
      ]
    },
    {
      "cell_type": "markdown",
      "source": [
        "  >**Hypothesis Test of Mean**"
      ],
      "metadata": {
        "id": "dqZK3vvuESq-"
      }
    },
    {
      "cell_type": "markdown",
      "source": [
        "Q.1 Suppose the vehicle manufacturer claims that the mean C02 Emissions of a vehicle is more than 259.17 g/km. In a sample of 7386 vehicle emissions, it was found that they only last 250.6 g/km on average. With the population standard deviation being 61.76. At .05 significance level,\n",
        "can we reject the claim by the manufacturer?"
      ],
      "metadata": {
        "id": "Mu1HP-JzlUrH"
      }
    },
    {
      "cell_type": "code",
      "source": [
        "%%R\n",
        "length(df_sample$Fuel.Consumption.Hwy..L.100.km.)"
      ],
      "metadata": {
        "colab": {
          "base_uri": "https://localhost:8080/"
        },
        "id": "gaBpS114v7Db",
        "outputId": "3ce6dcd2-de90-4823-a0fa-ce133917cdfa"
      },
      "execution_count": null,
      "outputs": [
        {
          "output_type": "stream",
          "name": "stdout",
          "text": [
            "[1] 7385\n"
          ]
        }
      ]
    },
    {
      "cell_type": "markdown",
      "source": [
        "    Claim : The average Co2 Emission of a car is more than 259.17 g/km."
      ],
      "metadata": {
        "id": "yT-dQh3_Cq4x"
      }
    },
    {
      "cell_type": "code",
      "source": [
        "%%R\n",
        "mean_co2 = mean(df$CO2.Emissions.g.km.)\n",
        "sd_co2 = sd(df$CO2.Emissions.g.km.)\n",
        "var_co2 = var(df$CO2.Emissions.g.km.)\n",
        "xbar = 250.6\n",
        "print(mean_co2)\n",
        "print(sd_co2)\n",
        "n = 7385    #sample size\n",
        "\n",
        "# Hypothesis:\n",
        "\n",
        "# H0: mu>259.1723 , H1: mu <= 259.1723 ; lower one tailed_test\n",
        "alpha=0.05                      #Confidence level is 95%\n",
        "\n",
        "test_value=(xbar-mean_co2)/sqrt(var_co2/n)\n",
        "print(test_value)\n",
        "\n",
        "c_value=qnorm(alpha)            # lower one-tailed test\n",
        "print(c_value)\n",
        "\n",
        "\n"
      ],
      "metadata": {
        "id": "hsy5wKhRwC0-",
        "colab": {
          "base_uri": "https://localhost:8080/"
        },
        "outputId": "44a8e062-2a92-49e5-870c-fec93e75cfb0"
      },
      "execution_count": null,
      "outputs": [
        {
          "output_type": "stream",
          "name": "stdout",
          "text": [
            "[1] 259.1723\n",
            "[1] 64.44315\n",
            "[1] -11.43131\n",
            "[1] -1.644854\n"
          ]
        }
      ]
    },
    {
      "cell_type": "markdown",
      "source": [
        "    Conclusion : The test value -11.4320 is less than the critical value of -1.6449. Hence, at .05 significance level, \n",
        "    we reject the claim that average Co2 Emission of a car is more than 259.17 g/km."
      ],
      "metadata": {
        "id": "pRbAKkQ8DyXG"
      }
    },
    {
      "cell_type": "code",
      "source": [
        "%%R\n",
        "pnorm(test_value)"
      ],
      "metadata": {
        "colab": {
          "base_uri": "https://localhost:8080/"
        },
        "id": "8lswLiWo1RaR",
        "outputId": "7655fbbc-52ff-4e40-bcde-32c4668dc88d"
      },
      "execution_count": null,
      "outputs": [
        {
          "output_type": "stream",
          "name": "stdout",
          "text": [
            "[1] 1.45834e-30\n"
          ]
        }
      ]
    },
    {
      "cell_type": "markdown",
      "source": [
        "we used pnorm as an alternative to this question as the p value here is close to zero and less than 0.05, we reject the null hypothesis that mu>259.17."
      ],
      "metadata": {
        "id": "g8-TFx3nEylH"
      }
    },
    {
      "cell_type": "markdown",
      "source": [
        ">**Hypothesis test of variance**"
      ],
      "metadata": {
        "id": "GRLrWTcAFHvh"
      }
    },
    {
      "cell_type": "code",
      "source": [
        "%%R\n",
        "print(sd(df_sample$CO2.Emissions.g.km.))\n",
        "print(var(df$CO2.Emissions.g.km.))\n",
        "print(var(df_sample$CO2.Emissions.g.km.))"
      ],
      "metadata": {
        "colab": {
          "base_uri": "https://localhost:8080/"
        },
        "id": "3sT-4BG3OsJK",
        "outputId": "8fc084d4-9177-4cf7-e8f6-4f3a25b99e12"
      },
      "execution_count": null,
      "outputs": [
        {
          "output_type": "stream",
          "name": "stdout",
          "text": [
            "[1] 58.51268\n",
            "[1] 4152.919\n",
            "[1] 3423.734\n"
          ]
        }
      ]
    },
    {
      "cell_type": "markdown",
      "source": [
        "We want to make sure that data has a consistent application rate, in other words, low variability not exceeding 0.25 g/Km. We collects sample data (n = 7385) and get a sample variance of 3423.7. Using a 5% level of significance, test the claim that the variance is significantly greater than 3423.\\\n",
        "(Assuming σ02 = 3423)"
      ],
      "metadata": {
        "id": "PbBH0O5VopOY"
      }
    },
    {
      "cell_type": "code",
      "source": [
        "%%R\n",
        "#Hypothesis-1:\n",
        "#H0: σ2 > σ02  \n",
        "#H1: σ2 ≤ σ02 \n",
        "alpha <- 0.05\n",
        "n <- 7385\n",
        "sample_var <- 3423.734\n",
        "pop_var <- 4152.919\n",
        "\n",
        "test_value <- ((n-1)*sample_var)/(pop_var)\n",
        "print(test_value)\n",
        "\n",
        "c1_value <- qchisq(0.05, 7384)\n",
        "print(c1_value)\n",
        "\n",
        "\n",
        "\n",
        "#Hypothesis-2:\n",
        "#H0: σ2 < σ02  \n",
        "#H1: σ2 ≥ σ02 \n",
        "c2_value = qchisq((1-0.05), 7384)\n",
        "print(c2_value)\n",
        "\n",
        "\n",
        "#Hypotheis-3 :\n",
        "#H0: σ2 = σ02  \n",
        "#H1: σ2 ≠ σ02\n",
        "\n",
        "c3_value1 = qchisq(0.025, 7384)\n",
        "c3_value2 = qchisq(0.975, 7384)\n",
        "print(c3_value1)\n",
        "\n",
        "print(c3_value2)\n"
      ],
      "metadata": {
        "colab": {
          "base_uri": "https://localhost:8080/"
        },
        "id": "yEOeIA2INk4B",
        "outputId": "89c8d0af-966f-4fb0-fcb5-0715ad058e08"
      },
      "execution_count": null,
      "outputs": [
        {
          "output_type": "stream",
          "name": "stdout",
          "text": [
            "[1] 6087.49\n",
            "[1] 7185.255\n",
            "[1] 7585.019\n",
            "[1] 7147.718\n",
            "[1] 7624.071\n"
          ]
        }
      ]
    },
    {
      "cell_type": "markdown",
      "source": [
        "    Conclusion : The test value 6087 is less than the critical values of 7185, 7585. And does not lie between 7147 and 7624.\n",
        "    Hence, at .05 significance level, we reject all the Hypothesis."
      ],
      "metadata": {
        "id": "E0eAYF-2uvLX"
      }
    },
    {
      "cell_type": "markdown",
      "source": [
        ">**Hypothesis Test of Proportion** "
      ],
      "metadata": {
        "id": "0-zaqZYM0uIu"
      }
    },
    {
      "cell_type": "markdown",
      "source": [
        ">1. The proportion of BMW with respect to Fuel.Type in **MY2022 Fuel Consumption Ratings** data is less than that of in **sample dataset**."
      ],
      "metadata": {
        "id": "yivwYq8j4wsP"
      }
    },
    {
      "cell_type": "markdown",
      "source": [
        ">Here we use prop.test to cross verify our claim. Proportion HT of Make column in both population and sample data."
      ],
      "metadata": {
        "id": "U2upcDAP5gk1"
      }
    },
    {
      "cell_type": "code",
      "source": [
        "%%R\n",
        "table(df$Make,df$Fuel.Type)"
      ],
      "metadata": {
        "colab": {
          "base_uri": "https://localhost:8080/"
        },
        "id": "XpcaogsN8dLS",
        "outputId": "fd244a59-1ef2-487b-e352-8ec2abfa65fd"
      },
      "execution_count": null,
      "outputs": [
        {
          "output_type": "stream",
          "name": "stdout",
          "text": [
            "               \n",
            "                 D  E  X  Z\n",
            "  Acura          0  0  0  8\n",
            "  Alfa Romeo     0  0  0  6\n",
            "  Aston Martin   0  0  0  5\n",
            "  Audi           0  0  5 40\n",
            "  Bentley        0  0  0  8\n",
            "  BMW            0  0  0 60\n",
            "  Bugatti        0  0  0  3\n",
            "  Buick          0  0  9  0\n",
            "  Cadillac       1  0  2 23\n",
            "  Chevrolet     11  3 48 18\n",
            "  Chrysler       0  0  6  0\n",
            "  Dodge          0  0  8 13\n",
            "  FIAT           0  0  1  0\n",
            "  Ford           0  8 79  2\n",
            "  Genesis        0  0  0  8\n",
            "  GMC            9  3 34  8\n",
            "  Honda          0  0 22  1\n",
            "  Hyundai        0  0 24  5\n",
            "  Infiniti       0  0  0  8\n",
            "  Jaguar         0  0  0  8\n",
            "  Jeep           4  0 28  2\n",
            "  Kia            0  0 24  1\n",
            "  Lamborghini    0  0  0  8\n",
            "  Land Rover     0  0  0 18\n",
            "  Lexus          0  0  9 19\n",
            "  Lincoln        0  0  7  0\n",
            "  Maserati       0  0  0 13\n",
            "  Mazda          0  0 21  2\n",
            "  Mercedes-Benz  0  0  0 43\n",
            "  MINI           0  0  0 20\n",
            "  Mitsubishi     0  0  7  0\n",
            "  Nissan         0  0 21  2\n",
            "  Porsche        0  0  0 77\n",
            "  Ram            3  0 12  1\n",
            "  Rolls-Royce    0  0  0  7\n",
            "  Subaru         0  0 15  4\n",
            "  Toyota         0  0 47  4\n",
            "  Volkswagen     0  0 16  2\n",
            "  Volvo          0  0  1 11\n"
          ]
        }
      ]
    },
    {
      "cell_type": "code",
      "source": [
        "%%R\n",
        "prop.test(x=c(0,0,0,60),n=c(1+11+4+3,3+8+3,5+9+2+48+6+8+1+79+34+22+24+28+24+9+7+21+7+21+12+15+47+16+1,\n",
        "                            8+6+5+40+8+60+3+23+18+13+2+8+8+1+5+8+8+2+1+8+18+19+13+2+43+20+2+77+1+7+4+4+2+111), correct=FALSE)"
      ],
      "metadata": {
        "colab": {
          "base_uri": "https://localhost:8080/"
        },
        "id": "2RdJDYN3UglC",
        "outputId": "8025e139-6e12-49c6-a0da-dfcabc05d15e"
      },
      "execution_count": null,
      "outputs": [
        {
          "output_type": "stream",
          "name": "stdout",
          "text": [
            "\n",
            "\t4-sample test for equality of proportions without continuity correction\n",
            "\n",
            "data:  c(0, 0, 0, 60) out of c(1 + 11 + 4 + 3, 3 + 8 + 3, 5 + 9 + 2 + 48 + 6 + 8 + 1 + 79 + 34 + 22 + 24 + 28 + 24 + 9 + 7 + 21 + 7 + 21 + 12 + 15 + 47 + 16 + 1, 8 + 6 + 5 + 40 + 8 + 60 + 3 + 23 + 18 + 13 + 2 + 8 + 8 + 1 + 5 + 8 + 8 + 2 + 1 + 8 + 18 + 19 + 13 + 2 + 43 + 20 + 2 + 77 + 1 + 7 + 4 + 4 + 2 + 111)\n",
            "X-squared = 54.668, df = 3, p-value = 8.081e-12\n",
            "alternative hypothesis: two.sided\n",
            "sample estimates:\n",
            "   prop 1    prop 2    prop 3    prop 4 \n",
            "0.0000000 0.0000000 0.0000000 0.1075269 \n",
            "\n"
          ]
        }
      ]
    },
    {
      "cell_type": "code",
      "source": [
        "%%R\n",
        "table(df_sample$Make,df_sample$Fuel.Type)"
      ],
      "metadata": {
        "colab": {
          "base_uri": "https://localhost:8080/"
        },
        "id": "VJdpgJ3h5aUh",
        "outputId": "065904a0-2364-4fce-ffd3-6202b348054f"
      },
      "execution_count": null,
      "outputs": [
        {
          "output_type": "stream",
          "name": "stdout",
          "text": [
            "               \n",
            "                  D   E   N   X   Z\n",
            "  ACURA           0   0   0   0  72\n",
            "  ALFA ROMEO      0   0   0   0  30\n",
            "  ASTON MARTIN    0   0   0   0  47\n",
            "  AUDI           17   0   0  27 242\n",
            "  BENTLEY         0   0   0   0  46\n",
            "  BMW            21   0   0   0 506\n",
            "  BUGATTI         0   0   0   0   3\n",
            "  BUICK           0   6   0  69  28\n",
            "  CADILLAC        0   2   0  63  93\n",
            "  CHEVROLET      30  77   1 388  92\n",
            "  CHRYSLER        0  25   0  62   1\n",
            "  DODGE           0  35   0 144  67\n",
            "  FIAT            0   0   0  73   0\n",
            "  FORD           14 111   0 489  14\n",
            "  GENESIS         0   0   0   4  21\n",
            "  GMC            17  69   0 209  33\n",
            "  HONDA           0   0   0 196  18\n",
            "  HYUNDAI         0   0   0 201   9\n",
            "  INFINITI        0   0   0   4 104\n",
            "  JAGUAR          8   6   0   0 146\n",
            "  JEEP            6  12   0 223  10\n",
            "  KIA             0   0   0 224   7\n",
            "  LAMBORGHINI     0   0   0   0  41\n",
            "  LAND ROVER     10   8   0   0  67\n",
            "  LEXUS           0   0   0  43 135\n",
            "  LINCOLN         0   1   0  95   0\n",
            "  MASERATI        0   0   0   0  61\n",
            "  MAZDA           1   0   0 163  16\n",
            "  MERCEDES-BENZ  12   4   0   0 403\n",
            "  MINI            0   0   0   0 204\n",
            "  MITSUBISHI      0   0   0  82  13\n",
            "  NISSAN          0   0   0 189  70\n",
            "  PORSCHE         3   0   0   0 373\n",
            "  RAM            16  14   0  67   0\n",
            "  ROLLS-ROYCE     0   0   0   0  50\n",
            "  SCION           0   0   0  16   6\n",
            "  SMART           0   0   0   0   7\n",
            "  SRT             0   0   0   0   2\n",
            "  SUBARU          0   0   0  96  44\n",
            "  TOYOTA          0   0   0 321   9\n",
            "  VOLKSWAGEN     20   0   0 126  51\n",
            "  VOLVO           0   0   0  63  61\n"
          ]
        }
      ]
    },
    {
      "cell_type": "code",
      "source": [
        "%%R\n",
        "prop.test(x=c(21,0,0,0,506),n=c(175,370,1,3637,3202), correct=FALSE)"
      ],
      "metadata": {
        "colab": {
          "base_uri": "https://localhost:8080/"
        },
        "id": "lprKdnG05atO",
        "outputId": "933f63d5-6c2d-4fba-d872-8a188dcc38d3"
      },
      "execution_count": null,
      "outputs": [
        {
          "output_type": "stream",
          "name": "stdout",
          "text": [
            "\n",
            "\t5-sample test for equality of proportions without continuity correction\n",
            "\n",
            "data:  c(21, 0, 0, 0, 506) out of c(175, 370, 1, 3637, 3202)\n",
            "X-squared = 677.16, df = 4, p-value < 2.2e-16\n",
            "alternative hypothesis: two.sided\n",
            "sample estimates:\n",
            "   prop 1    prop 2    prop 3    prop 4    prop 5 \n",
            "0.1200000 0.0000000 0.0000000 0.0000000 0.1580262 \n",
            "\n"
          ]
        }
      ]
    },
    {
      "cell_type": "markdown",
      "source": [
        "    We applied the prop.test function to compute the p-value directly and hence got the proportion test as two sided in both the cases. \n",
        " "
      ],
      "metadata": {
        "id": "mC70hQKv9i0L"
      }
    },
    {
      "cell_type": "markdown",
      "source": [
        "Conclusion : "
      ],
      "metadata": {
        "id": "IFsY1Y1x950g"
      }
    },
    {
      "cell_type": "markdown",
      "source": [
        " *The notebook takes 115 seconds to run.*"
      ],
      "metadata": {
        "id": "YWBgk13a-yLx"
      }
    }
  ]
}